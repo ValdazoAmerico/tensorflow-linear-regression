{
  "nbformat": 4,
  "nbformat_minor": 0,
  "metadata": {
    "colab": {
      "name": "tf-regresion-lineal.ipynb",
      "provenance": [],
      "collapsed_sections": [],
      "authorship_tag": "ABX9TyPNvYT2vSckzlOM2FBq22wz",
      "include_colab_link": true
    },
    "kernelspec": {
      "name": "python3",
      "display_name": "Python 3"
    },
    "language_info": {
      "name": "python"
    }
  },
  "cells": [
    {
      "cell_type": "markdown",
      "metadata": {
        "id": "view-in-github",
        "colab_type": "text"
      },
      "source": [
        "<a href=\"https://colab.research.google.com/github/ValdazoAmerico/tensorflow-linear-regression/blob/main/tf_regresion_lineal.ipynb\" target=\"_parent\"><img src=\"https://colab.research.google.com/assets/colab-badge.svg\" alt=\"Open In Colab\"/></a>"
      ]
    },
    {
      "cell_type": "code",
      "metadata": {
        "colab": {
          "base_uri": "https://localhost:8080/"
        },
        "id": "pfGWSLw-jBKt",
        "outputId": "793473e7-8f2b-46d4-eae4-5f2cfdafeefe"
      },
      "source": [
        "#Importamos librerias\n",
        "import matplotlib.pyplot as plt\n",
        "import numpy as np\n",
        "import tensorflow as tf\n",
        "import tensorflow.compat.v1 as tf\n",
        "tf.disable_v2_behavior()\n",
        "from sklearn import datasets\n",
        "from tensorflow.python.framework import ops\n",
        "ops.reset_default_graph()"
      ],
      "execution_count": 1,
      "outputs": [
        {
          "output_type": "stream",
          "text": [
            "WARNING:tensorflow:From /usr/local/lib/python3.7/dist-packages/tensorflow/python/compat/v2_compat.py:96: disable_resource_variables (from tensorflow.python.ops.variable_scope) is deprecated and will be removed in a future version.\n",
            "Instructions for updating:\n",
            "non-resource variables are not supported in the long term\n"
          ],
          "name": "stdout"
        }
      ]
    },
    {
      "cell_type": "code",
      "metadata": {
        "id": "SDc9533IjUUD"
      },
      "source": [
        "#Creamos una sesión gráfica\n",
        "sess = tf.Session()"
      ],
      "execution_count": 2,
      "outputs": []
    },
    {
      "cell_type": "code",
      "metadata": {
        "id": "tv6iaehijyIS"
      },
      "source": [
        "#Cargamos los datos\n",
        "iris = datasets.load_iris()\n",
        "x_vals = np.array([x[3] for x in iris.data])\n",
        "y_vals = np.array([y[0] for y in iris.data])"
      ],
      "execution_count": 7,
      "outputs": []
    },
    {
      "cell_type": "code",
      "metadata": {
        "id": "vBHHzR4fjhgm"
      },
      "source": [
        "#Declaramos el tamaño del batch\n",
        "batch_size=25"
      ],
      "execution_count": 8,
      "outputs": []
    },
    {
      "cell_type": "code",
      "metadata": {
        "id": "1c-_Hctjkd1M"
      },
      "source": [
        "#Inicializamos placeholders\n",
        "x_data = tf.placeholder(shape=[None, 1], dtype=tf.float32)\n",
        "y_target = tf.placeholder(shape=[None, 1], dtype=tf.float32)\n",
        "\n",
        "#Creamos las variables para la regresión lineal\n",
        "A = tf.Variable(tf.random_normal(shape=[1,1]))\n",
        "b = tf.Variable(tf.random_normal(shape=[1,1]))"
      ],
      "execution_count": 9,
      "outputs": []
    },
    {
      "cell_type": "code",
      "metadata": {
        "id": "Cb9hq44hk4iG"
      },
      "source": [
        "#Declaramos la opreación del modelo\n",
        "model_output = tf.add(tf.matmul(x_data, A), b)\n",
        "\n",
        "#Declaramos la función Loss (L2 Loss)\n",
        "loss = tf.reduce_mean(tf.square(y_target - model_output))"
      ],
      "execution_count": 12,
      "outputs": []
    },
    {
      "cell_type": "code",
      "metadata": {
        "colab": {
          "base_uri": "https://localhost:8080/"
        },
        "id": "cbM4zwjClHdm",
        "outputId": "649e3b70-1521-413f-a457-84325a7e6ccd"
      },
      "source": [
        "#Declaramos optimizador\n",
        "my_opt = tf.train.GradientDescentOptimizer(0.05)\n",
        "train_step = my_opt.minimize(loss)\n",
        "\n",
        "#Inicializamos las variables\n",
        "init = tf.initialize_all_variables()\n",
        "sess.run(init)"
      ],
      "execution_count": 13,
      "outputs": [
        {
          "output_type": "stream",
          "text": [
            "WARNING:tensorflow:From /usr/local/lib/python3.7/dist-packages/tensorflow/python/util/tf_should_use.py:247: initialize_all_variables (from tensorflow.python.ops.variables) is deprecated and will be removed after 2017-03-02.\n",
            "Instructions for updating:\n",
            "Use `tf.global_variables_initializer` instead.\n"
          ],
          "name": "stdout"
        }
      ]
    },
    {
      "cell_type": "code",
      "metadata": {
        "colab": {
          "base_uri": "https://localhost:8080/"
        },
        "id": "W24SPFZpn0f2",
        "outputId": "eff43f8e-0778-449c-d43b-30a5fd6aaa43"
      },
      "source": [
        "#Training loop\n",
        "loss_vec = []\n",
        "for i in range(100):\n",
        "  rand_index = np.random.choice(len(x_vals), size=batch_size)\n",
        "  rand_x = np.transpose([x_vals[rand_index]])\n",
        "  rand_y = np.transpose([y_vals[rand_index]])\n",
        "  sess.run(train_step, feed_dict={x_data: rand_x, y_target: rand_y})\n",
        "  temp_loss = sess.run(loss, feed_dict={x_data:rand_x, y_target:rand_y})\n",
        "  loss_vec.append(temp_loss)\n",
        "  if(i+1)%25==0:\n",
        "    print('Step #' + str(i+1) + ' A = ' + str(sess.run(A)) + ' b = ' + str(sess.run(b)))\n",
        "    print('Loss \" ' + str(temp_loss))"
      ],
      "execution_count": 15,
      "outputs": [
        {
          "output_type": "stream",
          "text": [
            "Step #25 A = [[1.9246063]] b = [[3.2394903]]\n",
            "Loss \" 1.2424394\n",
            "Step #50 A = [[1.4690267]] b = [[3.813482]]\n",
            "Loss \" 0.5208499\n",
            "Step #75 A = [[1.273156]] b = [[4.2423396]]\n",
            "Loss \" 0.41188386\n",
            "Step #100 A = [[1.102301]] b = [[4.465177]]\n",
            "Loss \" 0.22215347\n"
          ],
          "name": "stdout"
        }
      ]
    },
    {
      "cell_type": "code",
      "metadata": {
        "id": "C0cU-Y8opLYp"
      },
      "source": [
        "#Obtenemos los coeficients óptimos\n",
        "[slope] = sess.run(A)\n",
        "[y_intercept] = sess.run(b)\n",
        "\n",
        "best_fit = []\n",
        "for i in x_vals:\n",
        "  best_fit.append(slope*i+y_intercept)"
      ],
      "execution_count": 16,
      "outputs": []
    },
    {
      "cell_type": "code",
      "metadata": {
        "colab": {
          "base_uri": "https://localhost:8080/",
          "height": 573
        },
        "id": "khPaFrGkpm37",
        "outputId": "5b991144-6b4c-45f5-a168-10c020aec89e"
      },
      "source": [
        "#Resultado gráfico\n",
        "plt.plot(x_vals,y_vals, 'o',label='Data Points')\n",
        "plt.plot(x_vals, best_fit, 'r-', label='Mejor línea de ajuste', linewidth=3)\n",
        "plt.legend(loc='upper left')\n",
        "plt.title('Sepal Length vs Petal Width')\n",
        "plt.xlabel('Petal Width')\n",
        "plt.ylabel('Sepal Length')\n",
        "plt.show()\n",
        "\n",
        "#Plot loss over time\n",
        "plt.plot(loss_vec, 'k-')\n",
        "plt.title('L2 Loss por generacion')\n",
        "plt.xlabel('Generation')\n",
        "plt.ylabel('L2 Loss')\n",
        "\n",
        "plt.show()\n"
      ],
      "execution_count": 17,
      "outputs": [
        {
          "output_type": "display_data",
          "data": {
            "image/png": "[encoded data removed]",
            "text/plain": [
              "<Figure size 432x288 with 1 Axes>"
            ]
          },
          "metadata": {
            "tags": [],
            "needs_background": "light"
          }
        },
        {
          "output_type": "display_data",
          "data": {
            "image/png": "[encoded data removed]",
            "text/plain": [
              "<Figure size 432x288 with 1 Axes>"
            ]
          },
          "metadata": {
            "tags": [],
            "needs_background": "light"
          }
        }
      ]
    },
    {
      "cell_type": "code",
      "metadata": {
        "id": "EHdtimK2scyS"
      },
      "source": [
        ""
      ],
      "execution_count": null,
      "outputs": []
    }
  ]
}